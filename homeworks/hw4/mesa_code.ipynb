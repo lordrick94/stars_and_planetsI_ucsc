{
 "cells": [
  {
   "cell_type": "code",
   "execution_count": 1,
   "id": "aac96990-0124-4ec6-8799-d7177cb56170",
   "metadata": {},
   "outputs": [],
   "source": [
    "from hw4_utils import *\n",
    "from astropy import units as u"
   ]
  },
  {
   "cell_type": "code",
   "execution_count": null,
   "id": "43f08652-8636-4420-8a3a-ca3c6e369cdc",
   "metadata": {},
   "outputs": [],
   "source": []
  },
  {
   "cell_type": "code",
   "execution_count": null,
   "id": "01188876-92a2-40e4-ab75-1ce71009f227",
   "metadata": {},
   "outputs": [],
   "source": []
  },
  {
   "cell_type": "code",
   "execution_count": null,
   "id": "756c3c3b-5380-4eeb-bf3f-614f4716d9f3",
   "metadata": {},
   "outputs": [],
   "source": []
  }
 ],
 "metadata": {
  "kernelspec": {
   "display_name": "frb_env",
   "language": "python",
   "name": "python3"
  },
  "language_info": {
   "codemirror_mode": {
    "name": "ipython",
    "version": 3
   },
   "file_extension": ".py",
   "mimetype": "text/x-python",
   "name": "python",
   "nbconvert_exporter": "python",
   "pygments_lexer": "ipython3",
   "version": "3.12.8"
  }
 },
 "nbformat": 4,
 "nbformat_minor": 5
}
