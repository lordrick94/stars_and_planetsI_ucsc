{
  "cells": [
    {
      "cell_type": "code",
      "execution_count": 4,
      "id": "0401a1fe",
      "metadata": {},
      "outputs": [
        {
          "name": "stdout",
          "output_type": "stream",
          "text": [
            "Collecting ipyaladin\n",
            "  Downloading ipyaladin-0.5.2-py3-none-any.whl.metadata (7.0 kB)\n",
            "Collecting anywidget (from ipyaladin)\n",
            "  Downloading anywidget-0.9.15-py3-none-any.whl.metadata (8.9 kB)\n",
            "Requirement already satisfied: astropy in /home/lordrick/miniconda3/envs/frb_env/lib/python3.12/site-packages (from ipyaladin) (7.0.0)\n",
            "Requirement already satisfied: ipywidgets>=7.6.0 in /home/lordrick/miniconda3/envs/frb_env/lib/python3.12/site-packages (from anywidget->ipyaladin) (8.1.5)\n",
            "Collecting psygnal>=0.8.1 (from anywidget->ipyaladin)\n",
            "  Downloading psygnal-0.12.0-cp312-cp312-manylinux_2_17_x86_64.manylinux2014_x86_64.whl.metadata (7.7 kB)\n",
            "Requirement already satisfied: typing-extensions>=4.2.0 in /home/lordrick/miniconda3/envs/frb_env/lib/python3.12/site-packages (from anywidget->ipyaladin) (4.12.2)\n",
            "Requirement already satisfied: numpy>=1.23.2 in /home/lordrick/miniconda3/envs/frb_env/lib/python3.12/site-packages (from astropy->ipyaladin) (2.2.2)\n",
            "Requirement already satisfied: pyerfa>=2.0.1.1 in /home/lordrick/miniconda3/envs/frb_env/lib/python3.12/site-packages (from astropy->ipyaladin) (2.0.1.5)\n",
            "Requirement already satisfied: astropy-iers-data>=0.2024.10.28.0.34.7 in /home/lordrick/miniconda3/envs/frb_env/lib/python3.12/site-packages (from astropy->ipyaladin) (0.2025.1.31.12.41.4)\n",
            "Requirement already satisfied: PyYAML>=6.0.0 in /home/lordrick/miniconda3/envs/frb_env/lib/python3.12/site-packages (from astropy->ipyaladin) (6.0.2)\n",
            "Requirement already satisfied: packaging>=22.0.0 in /home/lordrick/miniconda3/envs/frb_env/lib/python3.12/site-packages (from astropy->ipyaladin) (24.2)\n",
            "Requirement already satisfied: comm>=0.1.3 in /home/lordrick/miniconda3/envs/frb_env/lib/python3.12/site-packages (from ipywidgets>=7.6.0->anywidget->ipyaladin) (0.2.2)\n",
            "Requirement already satisfied: ipython>=6.1.0 in /home/lordrick/miniconda3/envs/frb_env/lib/python3.12/site-packages (from ipywidgets>=7.6.0->anywidget->ipyaladin) (8.32.0)\n",
            "Requirement already satisfied: traitlets>=4.3.1 in /home/lordrick/miniconda3/envs/frb_env/lib/python3.12/site-packages (from ipywidgets>=7.6.0->anywidget->ipyaladin) (5.14.3)\n",
            "Requirement already satisfied: widgetsnbextension~=4.0.12 in /home/lordrick/miniconda3/envs/frb_env/lib/python3.12/site-packages (from ipywidgets>=7.6.0->anywidget->ipyaladin) (4.0.13)\n",
            "Requirement already satisfied: jupyterlab-widgets~=3.0.12 in /home/lordrick/miniconda3/envs/frb_env/lib/python3.12/site-packages (from ipywidgets>=7.6.0->anywidget->ipyaladin) (3.0.13)\n",
            "Requirement already satisfied: decorator in /home/lordrick/miniconda3/envs/frb_env/lib/python3.12/site-packages (from ipython>=6.1.0->ipywidgets>=7.6.0->anywidget->ipyaladin) (5.1.1)\n",
            "Requirement already satisfied: jedi>=0.16 in /home/lordrick/miniconda3/envs/frb_env/lib/python3.12/site-packages (from ipython>=6.1.0->ipywidgets>=7.6.0->anywidget->ipyaladin) (0.19.2)\n",
            "Requirement already satisfied: matplotlib-inline in /home/lordrick/miniconda3/envs/frb_env/lib/python3.12/site-packages (from ipython>=6.1.0->ipywidgets>=7.6.0->anywidget->ipyaladin) (0.1.7)\n",
            "Requirement already satisfied: pexpect>4.3 in /home/lordrick/miniconda3/envs/frb_env/lib/python3.12/site-packages (from ipython>=6.1.0->ipywidgets>=7.6.0->anywidget->ipyaladin) (4.9.0)\n",
            "Requirement already satisfied: prompt_toolkit<3.1.0,>=3.0.41 in /home/lordrick/miniconda3/envs/frb_env/lib/python3.12/site-packages (from ipython>=6.1.0->ipywidgets>=7.6.0->anywidget->ipyaladin) (3.0.50)\n",
            "Requirement already satisfied: pygments>=2.4.0 in /home/lordrick/miniconda3/envs/frb_env/lib/python3.12/site-packages (from ipython>=6.1.0->ipywidgets>=7.6.0->anywidget->ipyaladin) (2.19.1)\n",
            "Requirement already satisfied: stack_data in /home/lordrick/miniconda3/envs/frb_env/lib/python3.12/site-packages (from ipython>=6.1.0->ipywidgets>=7.6.0->anywidget->ipyaladin) (0.6.3)\n",
            "Requirement already satisfied: parso<0.9.0,>=0.8.4 in /home/lordrick/miniconda3/envs/frb_env/lib/python3.12/site-packages (from jedi>=0.16->ipython>=6.1.0->ipywidgets>=7.6.0->anywidget->ipyaladin) (0.8.4)\n",
            "Requirement already satisfied: ptyprocess>=0.5 in /home/lordrick/miniconda3/envs/frb_env/lib/python3.12/site-packages (from pexpect>4.3->ipython>=6.1.0->ipywidgets>=7.6.0->anywidget->ipyaladin) (0.7.0)\n",
            "Requirement already satisfied: wcwidth in /home/lordrick/miniconda3/envs/frb_env/lib/python3.12/site-packages (from prompt_toolkit<3.1.0,>=3.0.41->ipython>=6.1.0->ipywidgets>=7.6.0->anywidget->ipyaladin) (0.2.13)\n",
            "Requirement already satisfied: executing>=1.2.0 in /home/lordrick/miniconda3/envs/frb_env/lib/python3.12/site-packages (from stack_data->ipython>=6.1.0->ipywidgets>=7.6.0->anywidget->ipyaladin) (2.2.0)\n",
            "Requirement already satisfied: asttokens>=2.1.0 in /home/lordrick/miniconda3/envs/frb_env/lib/python3.12/site-packages (from stack_data->ipython>=6.1.0->ipywidgets>=7.6.0->anywidget->ipyaladin) (3.0.0)\n",
            "Requirement already satisfied: pure_eval in /home/lordrick/miniconda3/envs/frb_env/lib/python3.12/site-packages (from stack_data->ipython>=6.1.0->ipywidgets>=7.6.0->anywidget->ipyaladin) (0.2.3)\n",
            "Downloading ipyaladin-0.5.2-py3-none-any.whl (21 kB)\n",
            "Downloading anywidget-0.9.15-py3-none-any.whl (219 kB)\n",
            "Downloading psygnal-0.12.0-cp312-cp312-manylinux_2_17_x86_64.manylinux2014_x86_64.whl (787 kB)\n",
            "\u001b[2K   \u001b[38;2;114;156;31m━━━━━━━━━━━━━━━━━━━━━━━━━━━━━━━━━━━━━━━━\u001b[0m \u001b[32m787.4/787.4 kB\u001b[0m \u001b[31m9.0 MB/s\u001b[0m eta \u001b[36m0:00:00\u001b[0m\n",
            "\u001b[?25hInstalling collected packages: psygnal, anywidget, ipyaladin\n",
            "Successfully installed anywidget-0.9.15 ipyaladin-0.5.2 psygnal-0.12.0\n",
            "Note: you may need to restart the kernel to use updated packages.\n"
          ]
        }
      ],
      "source": [
        "pip install ipyaladin"
      ]
    },
    {
      "cell_type": "code",
      "execution_count": 5,
      "id": "a6eaeebf",
      "metadata": {},
      "outputs": [],
      "source": [
        "# Access astronomical databases\n",
        "from pyvo import registry  # version >=1.6\n",
        "\n",
        "# Moc and HEALPix tools\n",
        "from mocpy import MOC\n",
        "\n",
        "# Coordinates manipulation\n",
        "from astropy.coordinates import SkyCoord\n",
        "\n",
        "# Sky visualization\n",
        "from ipyaladin import Aladin  # version >=0.4.0\n",
        "\n",
        "# For plots\n",
        "import matplotlib.pyplot as plt\n"
      ]
    },
    {
      "cell_type": "markdown",
      "id": "7ad7861f",
      "metadata": {},
      "source": [
        "# Welcome to VizieR example workflow\n",
        "\n",
        "[![Vizier](https://custom-icon-badges.demolab.com/badge/Vizier-gray.svg?logo=vizier&logoColor=orange&logoWidth=20)](https://vizier.cds.unistra.fr/viz-bin/VizieR \"https://vizier.cds.unistra.fr/viz-bin/VizieR\")\n",
        "\n",
        "**Notes:** \n",
        "\n",
        "It is a generic notebook, highlighting what can be done once you chose a catalog. This workflow is suggested by [CDS](https://cdsweb.unistra.fr/) (Strasbourg Astronomical Data Center, house of [VizieR](https://vizier.cds.unistra.fr/viz-bin/VizieR)).\n",
        "\n",
        "The notebook exploits [pyVO](https://pyvo.readthedocs.io/en/latest/), an advanced library  of The [Virtual Observatory](https://ivoa.net/).\n",
        "\n",
        "[Astroquery](https://astroquery.readthedocs.io/en/latest/vizier/vizier.html) (not used here) is a well-documented, user-friendly alternative.\n",
        "\n",
        "--------------------------------------------------------\n",
        "\n",
        "## 1. Setup\n",
        "\n",
        "This example notebook has the following dependencies: \n",
        "\n",
        "**Required**\n",
        "- pyvo : this library facilitates the access to the Virtual Observatory (VO) resources. VizieR is part of the VO.\n",
        "This notebook needs version >=1.4.1\n",
        "**Optional, for visualization**\n",
        "- ipyaladin : this is the Aladin-lite sky viewer, bundled as a jupyter widget. It allows to plot catalogs and multi-order coverages (MOC)\n",
        "- matplotlib : an other option to see catalog points and MOCs\n",
        "\n",
        "## 2. Metadata exploration with the Virtual Observatory registry\n",
        "\n",
        "This part uses [pyvo](https://pyvo.readthedocs.io/en) to connect to the VO registry."
      ]
    },
    {
      "cell_type": "code",
      "execution_count": 6,
      "id": "95888801",
      "metadata": {},
      "outputs": [],
      "source": [
        "# the catalogue name in VizieR\n",
        "CATALOGUE = \"J/ApJ/940/63\""
      ]
    },
    {
      "cell_type": "markdown",
      "id": "26ad3c69",
      "metadata": {},
      "source": [
        "We first retrieve the catalogue information."
      ]
    },
    {
      "cell_type": "code",
      "execution_count": 7,
      "id": "6db57e6b",
      "metadata": {},
      "outputs": [],
      "source": [
        "# each resource in the VO has an identifier, called ivoid. For vizier catalogs,\n",
        "# the VO ids can be constructed like this:\n",
        "catalogue_ivoid = f\"ivo://CDS.VizieR/{CATALOGUE}\"\n",
        "# the actual query to the registry\n",
        "voresource = registry.search(ivoid=catalogue_ivoid)[0]"
      ]
    },
    {
      "cell_type": "code",
      "execution_count": 8,
      "id": "f3e975e3",
      "metadata": {},
      "outputs": [
        {
          "name": "stdout",
          "output_type": "stream",
          "text": [
            "Reliable distances of Galactic SNRs\n",
            "Short Name: J/ApJ/940/63\n",
            "IVOA Identifier: ivo://cds.vizier/j/apj/940/63\n",
            "Access modes: conesearch, tap#aux, web\n",
            "- tap#aux: http://tapvizier.cds.unistra.fr/TAPVizieR/tap\n",
            "- webpage: http://vizier.cds.unistra.fr/viz-bin/VizieR-2?-source=J/ApJ/940/63\n",
            "- conesearch: https://vizier.cds.unistra.fr/viz-\n",
            " bin/conesearch/J/ApJ/940/63/table1?, description: Cone search capability for\n",
            " table J/ApJ/940/63/table1 (Galactic supernova remnants (SNRs) with reliable\n",
            " distances)\n",
            "\n",
            "We present a table of 215 supernova remnants (SNRs) with distances. New\n",
            "distances are found to SNR G51.26+0.11 of 6.6+/-1.7kpc using HI absorption\n",
            "spectra and to five other SNRs using maser/molecular cloud associations. We\n",
            "recalculate the distances and errors to all SNRs using a consistent rotation\n",
            "curve and provide errors where they were not previously estimated. This\n",
            "results in a significant distance revisions for 20 SNRs. Because of\n",
            "observational constraints and selection effects, there is an apparent deficit\n",
            "of observed number of Galactic SNRs. To investigate this, we employ two\n",
            "methods. The first method applies correction factors for the selection effects\n",
            "to derive the radial density distribution. The second method compares\n",
            "functional forms for the SNR surface density and selection function against\n",
            "the data to find which functions are consistent with the data. The total\n",
            "number of SNRs in the Galaxy is ~3500 (Method 1) or in the range from ~2400 to\n",
            "~5600 (Method 2). We conclude that the current observed number of SNRs is not\n",
            "yet complete enough to give a well-determined total SNR number or radial\n",
            "density function.\n",
            "\n",
            "Waveband Coverage:\n",
            "\n",
            "Source: 2022ApJ...940...63R\n",
            "Authors: Ranasinghe S.,  Leahy D.\n",
            "More info: https://cdsarc.cds.unistra.fr/viz-bin/cat/J/ApJ/940/63\n"
          ]
        }
      ],
      "source": [
        "# We can print metadata information about the catalogue\n",
        "voresource.describe(verbose=True)"
      ]
    },
    {
      "cell_type": "markdown",
      "id": "bd2a7ae3",
      "metadata": {},
      "source": [
        "We can also inspect in details the `resource` object and access the attributes not provided by the describe method. See for example, the first author of a resource: "
      ]
    },
    {
      "cell_type": "code",
      "execution_count": 9,
      "id": "f5a53605",
      "metadata": {},
      "outputs": [
        {
          "data": {
            "text/plain": [
              "'Ranasinghe S.'"
            ]
          },
          "execution_count": 9,
          "metadata": {},
          "output_type": "execute_result"
        }
      ],
      "source": [
        "voresource.creators[0]"
      ]
    },
    {
      "cell_type": "markdown",
      "id": "5a457510",
      "metadata": {},
      "source": [
        "## 3. Access the tabular data of this catalog\n",
        "\n",
        "We can have a look at the tables available in the catalogue."
      ]
    },
    {
      "cell_type": "code",
      "execution_count": 10,
      "id": "92ebe10f",
      "metadata": {},
      "outputs": [
        {
          "name": "stderr",
          "output_type": "stream",
          "text": [
            "WARNING: W02: ?:?:?: W02: '' is not a valid datatype according to the VOSI spec [pyvo.io.vosi.vodataservice]\n"
          ]
        },
        {
          "name": "stdout",
          "output_type": "stream",
          "text": [
            "In this catalogue, we have 2 tables.\n",
            "J/ApJ/940/63/table1: Galactic supernova remnants (SNRs) with reliable distances\n",
            "J/ApJ/940/63/refs: References\n"
          ]
        }
      ],
      "source": [
        "tables = voresource.get_tables()\n",
        "print(f\"In this catalogue, we have {len(tables)} tables.\")\n",
        "for table_name, table in tables.items():\n",
        "    print(f\"{table_name}: {table.description}\")"
      ]
    },
    {
      "cell_type": "code",
      "execution_count": 11,
      "id": "81514878",
      "metadata": {},
      "outputs": [
        {
          "data": {
            "text/plain": [
              "['J/ApJ/940/63/table1', 'J/ApJ/940/63/refs']"
            ]
          },
          "execution_count": 11,
          "metadata": {},
          "output_type": "execute_result"
        }
      ],
      "source": [
        "# We can also extract the tables names for later use\n",
        "tables_names = list(tables.keys())\n",
        "tables_names"
      ]
    },
    {
      "cell_type": "code",
      "execution_count": 15,
      "id": "38b2c2b4",
      "metadata": {},
      "outputs": [],
      "source": [
        "import pandas as pd\n",
        "from astropy.table import Table"
      ]
    },
    {
      "cell_type": "code",
      "execution_count": null,
      "id": "a9ca03d6",
      "metadata": {},
      "outputs": [
        {
          "name": "stdout",
          "output_type": "stream",
          "text": [
            "\n",
            "📌 Processing Table: J/ApJ/940/63/table1\n",
            "❌ Error converting table J/ApJ/940/63/table1: 'list' object has no attribute 'keys'\n",
            "\n",
            "📌 Processing Table: J/ApJ/940/63/refs\n",
            "❌ Error converting table J/ApJ/940/63/refs: 'list' object has no attribute 'keys'\n"
          ]
        }
      ],
      "source": [
        "# Dictionary to store Pandas DataFrames\n",
        "dataframes = {}\n"
      ]
    },
    {
      "cell_type": "code",
      "execution_count": null,
      "id": "6cd2b3ae",
      "metadata": {},
      "outputs": [],
      "source": []
    },
    {
      "cell_type": "code",
      "execution_count": null,
      "id": "f90c3681",
      "metadata": {},
      "outputs": [
        {
          "data": {
            "text/plain": [
              "''"
            ]
          },
          "execution_count": 38,
          "metadata": {},
          "output_type": "execute_result"
        }
      ],
      "source": [
        "tables['J/ApJ/940/63/table1']."
      ]
    },
    {
      "cell_type": "code",
      "execution_count": 26,
      "id": "a6e55bef",
      "metadata": {},
      "outputs": [
        {
          "data": {
            "text/plain": [
              "pyvo.io.vosi.vodataservice.VODataServiceTable"
            ]
          },
          "execution_count": 26,
          "metadata": {},
          "output_type": "execute_result"
        }
      ],
      "source": [
        "type(tables['J/ApJ/940/63/table1'])"
      ]
    },
    {
      "cell_type": "markdown",
      "id": "eedac527",
      "metadata": {},
      "source": [
        "The actual data can then be accessed using any of the ``access_modes`` of the voresource."
      ]
    },
    {
      "cell_type": "code",
      "execution_count": 12,
      "id": "32db444e",
      "metadata": {},
      "outputs": [
        {
          "data": {
            "text/plain": [
              "{'conesearch', 'tap#aux', 'web'}"
            ]
          },
          "execution_count": 12,
          "metadata": {},
          "output_type": "execute_result"
        }
      ],
      "source": [
        "voresource.access_modes()"
      ]
    },
    {
      "cell_type": "markdown",
      "id": "4a7dd42f",
      "metadata": {},
      "source": [
        "The web access is found by following the ``reference_url``"
      ]
    },
    {
      "cell_type": "code",
      "execution_count": 13,
      "id": "545f9bf8",
      "metadata": {},
      "outputs": [
        {
          "data": {
            "text/plain": [
              "'https://cdsarc.cds.unistra.fr/viz-bin/cat/J/ApJ/940/63'"
            ]
          },
          "execution_count": 13,
          "metadata": {},
          "output_type": "execute_result"
        }
      ],
      "source": [
        "voresource.reference_url"
      ]
    },
    {
      "cell_type": "markdown",
      "id": "abee6ce7",
      "metadata": {},
      "source": [
        "### 3.1 Execute a SQL/ADQL query\n",
        "\n",
        "The ``tap#aux`` in the ``access_mode`` response indicates that we can also do a SQL/ADQL query for these VizieR tables.\n",
        "\n",
        "On the first table of the catalogue, we execute an <a href='https://www.ivoa.net/documents/latest/ADQL.html'>ADQL</a> query."
      ]
    },
    {
      "cell_type": "code",
      "execution_count": null,
      "id": "3a8b8d60",
      "metadata": {},
      "outputs": [],
      "source": [
        "# get the first table of the catalogue\n",
        "first_table_name = tables_names[0]\n",
        "\n",
        "# execute a synchronous ADQL query\n",
        "tap_service = voresource.get_service(\"tap\")\n",
        "tap_records = tap_service.search(\n",
        "    f'select TOP 10 * from \"{first_table_name}\"',\n",
        ")\n",
        "tap_records"
      ]
    },
    {
      "cell_type": "markdown",
      "id": "80157f1b",
      "metadata": {},
      "source": [
        "<!-- section position -->\n",
        "\n",
        "We will explore the other access modes here.\n",
        "\n",
        "### 3.2. Execute a cone search query\n",
        "\n",
        "We use the Simple Cone Search (<a href='https://www.ivoa.net/documents/latest/ConeSearch.html'>SCS</a>) protocol of the virtual observatory (only available for tables with positions).\n",
        "\n",
        "Finding the conesearch service that you want to use (there is usually one per table):"
      ]
    },
    {
      "cell_type": "markdown",
      "id": "f11fb741",
      "metadata": {},
      "source": [
        "Let's use the first one for this example. "
      ]
    },
    {
      "cell_type": "code",
      "execution_count": null,
      "id": "4515d133",
      "metadata": {},
      "outputs": [],
      "source": [
        "# we get the conesearch  service associated to the first table\n",
        "conesearch_interface = voresource.get_interface(service_type='conesearch', \n",
        "                                                keyword='J/ApJ/940/63/table1',\n",
        "                                                lax=True)\n",
        "# if you get a TypeError about an unexpected keyword, check that you installed pyvo>=1.6\n",
        "conesearch_service = conesearch_interface.to_service()"
      ]
    },
    {
      "cell_type": "markdown",
      "id": "ceaefcb5",
      "metadata": {},
      "source": [
        "We adapt the radius and position of the center to our needs:"
      ]
    },
    {
      "cell_type": "code",
      "execution_count": null,
      "id": "39b1153b",
      "metadata": {},
      "outputs": [],
      "source": [
        "conesearch_radius = 1 / 60.0  # in degrees\n",
        "conesearch_center = (266.420800, -29.013300)"
      ]
    },
    {
      "cell_type": "code",
      "execution_count": null,
      "id": "8f34d3fd",
      "metadata": {},
      "outputs": [],
      "source": [
        "conesearch_records = conesearch_service.search(\n",
        "    pos=conesearch_center,\n",
        "    sr=conesearch_radius,\n",
        ")\n",
        "conesearch_records"
      ]
    },
    {
      "cell_type": "markdown",
      "id": "d1df2200",
      "metadata": {},
      "source": [
        "## 4. Get the catalogue coverage\n",
        "\n",
        "VizieR also provides the coverage of each catalogue with Multiple Order Coverage (<a href='https://ivoa.net/documents/MOC/'>MOC</a>) at order 10 -- meaning with a 0.001 rad spacial resolution."
      ]
    },
    {
      "cell_type": "code",
      "execution_count": null,
      "id": "b532da7e",
      "metadata": {},
      "outputs": [],
      "source": [
        "# retrieve the MOC\n",
        "catalogue_coverage = MOC.from_vizier_table(CATALOGUE)\n",
        "catalogue_coverage.display_preview()"
      ]
    },
    {
      "cell_type": "markdown",
      "id": "a8273b53",
      "metadata": {},
      "source": [
        "The quick preview is the whole sky in equatorial coordinates. Red represent zones where the catalog has data, black areas are empty zones.\n",
        "\n",
        "We can also plot the coverage with ``matplotlib``."
      ]
    },
    {
      "cell_type": "code",
      "execution_count": null,
      "id": "f47e09e2",
      "metadata": {},
      "outputs": [],
      "source": [
        "fig = plt.figure(figsize=(5, 5))\n",
        "wcs = catalogue_coverage.wcs(fig)\n",
        "ax = fig.add_subplot(projection=wcs)\n",
        "catalogue_coverage.fill(ax=ax, wcs=wcs, alpha=0.5, color=\"blue\")"
      ]
    },
    {
      "cell_type": "markdown",
      "id": "adad9fc7",
      "metadata": {},
      "source": [
        "or with [ipyaladin](https://github.com/cds-astro/ipyaladin)"
      ]
    },
    {
      "cell_type": "code",
      "execution_count": null,
      "id": "53840a2b",
      "metadata": {},
      "outputs": [],
      "source": [
        "aladin = Aladin()\n",
        "aladin"
      ]
    },
    {
      "cell_type": "markdown",
      "id": "17465387",
      "metadata": {},
      "source": [
        "We switch the target to the center of the conesearch"
      ]
    },
    {
      "cell_type": "code",
      "execution_count": null,
      "id": "d550ccf4",
      "metadata": {},
      "outputs": [],
      "source": [
        "aladin.target = \"266.420800 -29.013300\""
      ]
    },
    {
      "cell_type": "markdown",
      "id": "de738e90-b34b-4818-a6e6-2d07c9b4c2c2",
      "metadata": {},
      "source": [
        "We can add the tables and coverage in this ipyaladin widget:"
      ]
    },
    {
      "cell_type": "code",
      "execution_count": null,
      "id": "52e6635c-2500-4c49-930b-35a08b36caa0",
      "metadata": {},
      "outputs": [],
      "source": [
        "aladin.add_table(conesearch_records.to_table(), color=\"lightskyblue\", shape=\"plus\")"
      ]
    },
    {
      "cell_type": "markdown",
      "id": "4f39955a",
      "metadata": {},
      "source": [
        "If you don't see the points from the conesearch result, try zooming in the widget with your mouse wheel.\n",
        "\n",
        "We can also add the result of the TAP query:"
      ]
    },
    {
      "cell_type": "code",
      "execution_count": null,
      "id": "3f55e7d1-bf38-4b7d-a73b-567f9b256f85",
      "metadata": {},
      "outputs": [],
      "source": [
        "aladin.add_table(tap_records.to_table())"
      ]
    },
    {
      "cell_type": "code",
      "execution_count": null,
      "id": "097a4505-5417-4dd3-9032-d75a76fa7c5c",
      "metadata": {},
      "outputs": [],
      "source": [
        "aladin.add_moc(\n",
        "    catalogue_coverage,\n",
        "    fill=True, opacity=0.5, color=\"pink\", edge=True\n",
        ")"
      ]
    },
    {
      "cell_type": "markdown",
      "id": "065588dd",
      "metadata": {},
      "source": [
        "For more information about manipulating multi-order coverages, see [MOCpy documentation](https://cds-astro.github.io/mocpy/), and about using the `ipyaladin` widget, see [its documentation](https://cds-astro.github.io/ipyaladin/)."
      ]
    }
  ],
  "metadata": {
    "kernelspec": {
      "display_name": "frb_env",
      "language": "python",
      "name": "python3"
    },
    "language_info": {
      "codemirror_mode": {
        "name": "ipython",
        "version": 3
      },
      "file_extension": ".py",
      "mimetype": "text/x-python",
      "name": "python",
      "nbconvert_exporter": "python",
      "pygments_lexer": "ipython3",
      "version": "3.12.8"
    }
  },
  "nbformat": 4,
  "nbformat_minor": 5
}
